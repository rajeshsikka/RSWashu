{
 "cells": [
  {
   "cell_type": "code",
   "execution_count": null,
   "metadata": {},
   "outputs": [],
   "source": [
    "import numpy as np\n",
    "\n",
    "import sqlalchemy\n",
    "from sqlalchemy.ext.automap import automap_base\n",
    "from sqlalchemy.orm import Session\n",
    "from werkzeug.serving import run_simple\n",
    "from sqlalchemy import create_engine, func\n",
    "\n",
    "from flask import Flask, jsonify"
   ]
  },
  {
   "cell_type": "code",
   "execution_count": null,
   "metadata": {},
   "outputs": [],
   "source": [
    "##############################################################\n",
    "# Database Setup\n",
    "##############################################################\n",
    "engine = create_engine(\"sqlite:///Resources/hawaii.sqlite\")\n",
    "\n",
    "# reflect an existing database into a new model\n",
    "Base = automap_base()\n",
    "# reflect the tables\n",
    "Base.prepare(engine, reflect=True)\n",
    "\n",
    "# Save reference to the table\n",
    "Measurement = Base.classes.measurement\n",
    "Station = Base.classes.station\n",
    "\n",
    "# Create our session (link) from Python to the DB\n",
    "session = Session(engine)"
   ]
  },
  {
   "cell_type": "code",
   "execution_count": null,
   "metadata": {},
   "outputs": [],
   "source": [
    "#################################################\n",
    "# Flask Setup\n",
    "#################################################\n",
    "app = Flask(__name__)\n"
   ]
  },
  {
   "cell_type": "code",
   "execution_count": null,
   "metadata": {},
   "outputs": [],
   "source": [
    "################################################\n",
    "# List the Flask Routes\n",
    "#################################################\n",
    "\n",
    "@app.route(\"/\")\n",
    "def welcome():\n",
    "    \"\"\"List all available api routes.\"\"\"\n",
    "    return (\n",
    "        f\"Available Routes:<br/>\"\n",
    "        f\"/api/v1.0/precipitation<br/>\"\n",
    "        f\"/api/v1.0/stations<br/>\"\n",
    "        f\"/api/v1.0/tobs<br/>\"\n",
    "        f\"/api/v1.0/startdate<br/>\"\n",
    "        f\"/api/v1.0/startenddates/<end>\"\n",
    "    )"
   ]
  },
  {
   "cell_type": "code",
   "execution_count": null,
   "metadata": {},
   "outputs": [],
   "source": [
    "# Query the database for the following route - `/api/v1.0/precipitation`\n",
    "\n",
    "@app.route(\"/api/v1.0/precipitation\")\n",
    "def prcp():\n",
    "    \"\"\"Return precipitation reading from measurement table \"\"\"\n",
    "    #Query for the dates, temperature, precipitation observations from the last year.\n",
    "    results = session.query(Measurement.date, Measurement.tobs, Measurement.prcp).filter(Measurement.date > '2016-08-22').all()\n",
    "    \n",
    "    #Convert the query results to a Dictionary using `date` as the key and `tobs` as the value\n",
    "    all_measurements = []\n",
    "    for measurement in results:\n",
    "        measurement_dict = {}\n",
    "        measurement_dict[\"date\"] = measurement.date\n",
    "        measurement_dict[\"tobs\"] = measurement.tobs\n",
    "        measurement_dict[\"prcp\"] = measurement.prcp\n",
    "        all_measurements.append(measurement_dict) \n",
    "    \n",
    "    #Convert list of tuples into normal list\n",
    "    #all_prcp_values = list(np.ravel(results))\n",
    "\n",
    "    #return jsonify(all_prcp_values)\n",
    "    return jsonify(all_measurements)\n"
   ]
  },
  {
   "cell_type": "code",
   "execution_count": null,
   "metadata": {},
   "outputs": [],
   "source": [
    "# Query the database for the following route - /api/v1.0/stations`\n",
    "\n",
    "@app.route(\"/api/v1.0/stations\")\n",
    "def stations():\n",
    "    \"\"\"Return the stations information from station table \"\"\"\n",
    "    #Query for the station table and return the list of stations.\n",
    "    results = session.query(Station.id, Station.station, Station.name).all()\n",
    "      \n",
    "    #Convert list of tuples into normal list\n",
    "    all_station_values = list(np.ravel(results))\n",
    "\n",
    "   \n",
    "    return jsonify(all_station_values)\n",
    "    "
   ]
  },
  {
   "cell_type": "code",
   "execution_count": null,
   "metadata": {},
   "outputs": [],
   "source": [
    "# Query the database for the following route - /api/v1.0/tobs`\n",
    "\n",
    "@app.route(\"/api/v1.0/tobs\")\n",
    "def tobs():\n",
    "    \"\"\"Return the temperature information from measurement table \"\"\"\n",
    "    #Query for the station table and return the list of stations.\n",
    "    results = session.query(Measurement.date, Measurement.tobs).filter(Measurement.date > '2016-08-22').all()\n",
    "      \n",
    "    #Convert list of tuples into normal list\n",
    "    all_tobs_values = list(np.ravel(results))\n",
    "\n",
    "   \n",
    "    return jsonify(all_tobs_values)\n",
    "   "
   ]
  },
  {
   "cell_type": "code",
   "execution_count": null,
   "metadata": {},
   "outputs": [],
   "source": [
    "# Query the database for TMIN`, `TAVG`, and `TMAX` When given the start date is given  - /api/v1.0/startdate>\n",
    "\n",
    "@app.route(\"/api/v1.0/startdate\")\n",
    "def stdte():\n",
    "    \"\"\"Return the Minimum, Maximum, abd average temperature for a given date information from measurement table \"\"\"\n",
    "    #Query for the station table and return the list of stations.\n",
    "    results = session.query(func.min(Measurement.tobs), func.avg(Measurement.tobs),func.min(Measurement.tobs)).filter(Measurement.date > '2016-08-22').all()\n",
    "      \n",
    "    #Convert list of tuples into normal list\n",
    "    all_tobs_temp_stdt_values = list(np.ravel(results))\n",
    "\n",
    "   \n",
    "    return jsonify(all_tobs_temp_stdt_values)\n"
   ]
  },
  {
   "cell_type": "code",
   "execution_count": null,
   "metadata": {},
   "outputs": [],
   "source": [
    "# Query the database for TMIN`, `TAVG`, and `TMAX` When given the start and end date is given - /api/v1.0/startandenddates>\n",
    "\n",
    "@app.route(\"/api/v1.0/startenddates\")\n",
    "def stdtend():\n",
    "    \"\"\"Return the Minimum, Maximum, abd average temperature for a given date information from measurement table \"\"\"\n",
    "    #Query for the station table and return the list of stations.\n",
    "    results = session.query(func.min(Measurement.tobs),func.avg(Measurement.tobs),func.min(Measurement.tobs)).filter(Measurement.date > '2016-08-22').filter(Measurement.date < '2016-10-22').all()\n",
    "              \n",
    "                  \n",
    "    #Convert list of tuples into normal list\n",
    "    all_tobs_temp_stendt_values = list(np.ravel(results))\n",
    "\n",
    "   \n",
    "    return jsonify(all_tobs_temp_stendt_values)"
   ]
  },
  {
   "cell_type": "code",
   "execution_count": null,
   "metadata": {},
   "outputs": [],
   "source": [
    "if __name__ == '__main__':\n",
    "   # #app.run(debug=True)\n",
    "   # app.run(debug=True)\n",
    "   run_simple('localhost', 5001, app) "
   ]
  },
  {
   "cell_type": "code",
   "execution_count": null,
   "metadata": {},
   "outputs": [],
   "source": []
  },
  {
   "cell_type": "code",
   "execution_count": null,
   "metadata": {},
   "outputs": [],
   "source": []
  }
 ],
 "metadata": {
  "kernelspec": {
   "display_name": "Python 3",
   "language": "python",
   "name": "python3"
  },
  "language_info": {
   "codemirror_mode": {
    "name": "ipython",
    "version": 3
   },
   "file_extension": ".py",
   "mimetype": "text/x-python",
   "name": "python",
   "nbconvert_exporter": "python",
   "pygments_lexer": "ipython3",
   "version": "3.6.6"
  }
 },
 "nbformat": 4,
 "nbformat_minor": 2
}
